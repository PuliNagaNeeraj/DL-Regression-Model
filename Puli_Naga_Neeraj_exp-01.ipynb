{
 "cells": [
  {
   "cell_type": "code",
   "execution_count": 1,
   "metadata": {
    "id": "QiBgcD2-T2Z4"
   },
   "outputs": [],
   "source": [
    "import torch\n",
    "import torch.nn as nn\n",
    "import numpy as np\n",
    "import matplotlib.pyplot as plt\n",
    "%matplotlib inline"
   ]
  },
  {
   "cell_type": "code",
   "execution_count": 2,
   "metadata": {
    "id": "9ffBzIOEUQLE"
   },
   "outputs": [],
   "source": [
    "x=torch.linspace(1,50,50).reshape(-1,1)"
   ]
  },
  {
   "cell_type": "code",
   "execution_count": 3,
   "metadata": {
    "colab": {
     "base_uri": "https://localhost:8080/"
    },
    "id": "UEorrE8pUbKj",
    "outputId": "129fe141-06d1-4199-a841-4c82025b8cfe"
   },
   "outputs": [
    {
     "data": {
      "text/plain": [
       "<torch._C.Generator at 0x2590874a870>"
      ]
     },
     "execution_count": 3,
     "metadata": {},
     "output_type": "execute_result"
    }
   ],
   "source": [
    "torch.manual_seed(71)"
   ]
  },
  {
   "cell_type": "code",
   "execution_count": 4,
   "metadata": {
    "id": "0UEpMdN6Uto_"
   },
   "outputs": [],
   "source": [
    "e=torch.randint(-8,9,(50,1),dtype=torch.float32)"
   ]
  },
  {
   "cell_type": "code",
   "execution_count": 5,
   "metadata": {
    "colab": {
     "base_uri": "https://localhost:8080/"
    },
    "id": "QKJ61lsjU4qU",
    "outputId": "e4d655af-0472-464f-b627-8d810e084a9f"
   },
   "outputs": [
    {
     "name": "stdout",
     "output_type": "stream",
     "text": [
      "tensor(0.)\n"
     ]
    }
   ],
   "source": [
    "print(e.sum())"
   ]
  },
  {
   "cell_type": "code",
   "execution_count": 6,
   "metadata": {},
   "outputs": [
    {
     "name": "stdout",
     "output_type": "stream",
     "text": [
      "Puli Naga Neeraj\n",
      "212223240130\n"
     ]
    }
   ],
   "source": [
    "print(\"Puli Naga Neeraj\")\n",
    "print(\"212223240130\")"
   ]
  },
  {
   "cell_type": "code",
   "execution_count": 7,
   "metadata": {
    "colab": {
     "base_uri": "https://localhost:8080/"
    },
    "id": "kW7zlcrSVBsv",
    "outputId": "48d940c7-cd32-42ef-d1b6-1108efdfac98"
   },
   "outputs": [
    {
     "name": "stdout",
     "output_type": "stream",
     "text": [
      "torch.Size([50, 1])\n"
     ]
    }
   ],
   "source": [
    "y = 2*x + 1 + e\n",
    "print(y.shape)"
   ]
  },
  {
   "cell_type": "code",
   "execution_count": null,
   "metadata": {
    "colab": {
     "base_uri": "https://localhost:8080/",
     "height": 472
    },
    "id": "9Wcsy3jRYBPn",
    "outputId": "b4e515c0-8af4-4dcd-d380-06c1e04163b8"
   },
   "outputs": [],
   "source": [
    "plt.scatter(x.numpy(), y.numpy(),color='red')  # Scatter plot of data points\n",
    "plt.xlabel('x')\n",
    "plt.ylabel('y')\n",
    "plt.title('Generated Data for Linear Regression')\n",
    "plt.show()"
   ]
  },
  {
   "cell_type": "code",
   "execution_count": null,
   "metadata": {
    "colab": {
     "base_uri": "https://localhost:8080/"
    },
    "id": "ibrvQ0IzYNBo",
    "outputId": "48b671a4-3be2-4288-eeaa-1ad2581a43b3"
   },
   "outputs": [],
   "source": [
    "# Setting a manual seed for reproducibility\n",
    "torch.manual_seed(59)\n",
    "\n",
    "# Defining the model class\n",
    "model = nn.Linear(1, 1)  # Linear regression model with 1 input and 1 output\n",
    "\n",
    "# Accessing weight and bias directly\n",
    "print('Weight:', model.weight.item())\n",
    "print('Bias:  ', model.bias.item())"
   ]
  },
  {
   "cell_type": "code",
   "execution_count": null,
   "metadata": {
    "id": "sDwJ1w5VYags"
   },
   "outputs": [],
   "source": [
    "loss_function = nn.MSELoss()  # Mean Squared Error (MSE) loss\n",
    "\n",
    "optimizer = torch.optim.SGD(model.parameters(), lr=0.001)  # Stochastic Gradient Descent\n"
   ]
  },
  {
   "cell_type": "code",
   "execution_count": null,
   "metadata": {
    "colab": {
     "base_uri": "https://localhost:8080/"
    },
    "id": "cwz9uMq2Yee7",
    "outputId": "29ffef1f-0b3c-4b5a-c84d-5dfed7f74956"
   },
   "outputs": [],
   "source": [
    "epochs = 50  # Number of training iterations\n",
    "losses = []  # List to store loss values\n",
    "\n",
    "for epoch in range(1, epochs + 1):  # Start from 1 to 50\n",
    "    optimizer.zero_grad()  # Clear previous gradients\n",
    "    y_pred = model(x)  # Forward pass\n",
    "    loss = loss_function(y_pred, y)  # Compute loss\n",
    "    losses.append(loss.item())  # Store loss value\n",
    "\n",
    "    loss.backward()  # Compute gradients\n",
    "    optimizer.step()  # Update weights\n",
    "\n",
    "    # Print loss, weight, and bias for EVERY epoch (1 to 50)\n",
    "    print(f'epoch: {epoch:2}  loss: {loss.item():10.8f}  '\n",
    "          f'weight: {model.weight.item():10.8f}  '\n",
    "          f'bias: {model.bias.item():10.8f}')\n"
   ]
  },
  {
   "cell_type": "code",
   "execution_count": null,
   "metadata": {
    "colab": {
     "base_uri": "https://localhost:8080/",
     "height": 449
    },
    "id": "nXYwvukxYjca",
    "outputId": "fb38ca64-2412-4928-a0e6-a9e78c87eb30"
   },
   "outputs": [],
   "source": [
    "plt.plot(range(epochs), losses)\n",
    "plt.ylabel('Loss')\n",
    "plt.xlabel('epoch');\n",
    "plt.show()"
   ]
  },
  {
   "cell_type": "code",
   "execution_count": null,
   "metadata": {
    "id": "dZCJq-PoYpWt"
   },
   "outputs": [],
   "source": [
    "# Automatically determine x-range\n",
    "x1 = torch.tensor([x.min().item(), x.max().item()])\n",
    "\n",
    "# Extract model parameters\n",
    "w1, b1 = model.weight.item(), model.bias.item()\n",
    "\n",
    "# Compute y1 (predicted values)\n",
    "y1 = x1 * w1 + b1\n"
   ]
  },
  {
   "cell_type": "code",
   "execution_count": null,
   "metadata": {
    "colab": {
     "base_uri": "https://localhost:8080/"
    },
    "id": "hpHDBNgXYztf",
    "outputId": "00bcd066-7d43-406e-841b-433ed59ce814"
   },
   "outputs": [],
   "source": [
    "# Print weight, bias, and x/y values\n",
    "print(f'Final Weight: {w1:.8f}, Final Bias: {b1:.8f}')\n",
    "print(f'X range: {x1.numpy()}')\n",
    "print(f'Predicted Y values: {y1.numpy()}')"
   ]
  },
  {
   "cell_type": "code",
   "execution_count": null,
   "metadata": {
    "colab": {
     "base_uri": "https://localhost:8080/",
     "height": 472
    },
    "id": "F8aI0ij7Y2wA",
    "outputId": "85af64e8-1573-4066-d4f5-55e6a6ae0f37"
   },
   "outputs": [],
   "source": [
    "# Plot original data and best-fit line\n",
    "plt.scatter(x.numpy(), y.numpy(), label=\"Original Data\")\n",
    "plt.plot(x1.numpy(), y1.numpy(), 'r', label=\"Best-Fit Line\")\n",
    "plt.xlabel('x')\n",
    "plt.ylabel('y')\n",
    "plt.title('Trained Model: Best-Fit Line')\n",
    "plt.legend()\n",
    "plt.show()"
   ]
  },
  {
   "cell_type": "code",
   "execution_count": null,
   "metadata": {
    "colab": {
     "base_uri": "https://localhost:8080/"
    },
    "id": "HO9UR0YYY5nc",
    "outputId": "2c301b53-ae4c-4918-827f-2cee112a8cc3"
   },
   "outputs": [],
   "source": [
    "torch.save(model.state_dict(), 'ReddineniAdarshChowdary_linear_regression_model.pth')\n",
    "print('Model saved successfully.')"
   ]
  },
  {
   "cell_type": "code",
   "execution_count": null,
   "metadata": {
    "id": "0isDavMra_PI"
   },
   "outputs": [],
   "source": []
  }
 ],
 "metadata": {
  "colab": {
   "provenance": []
  },
  "kernelspec": {
   "display_name": "Python 3 (ipykernel)",
   "language": "python",
   "name": "python3"
  },
  "language_info": {
   "codemirror_mode": {
    "name": "ipython",
    "version": 3
   },
   "file_extension": ".py",
   "mimetype": "text/x-python",
   "name": "python",
   "nbconvert_exporter": "python",
   "pygments_lexer": "ipython3",
   "version": "3.11.3"
  }
 },
 "nbformat": 4,
 "nbformat_minor": 1
}
